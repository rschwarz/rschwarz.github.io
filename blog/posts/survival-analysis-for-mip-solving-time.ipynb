{
 "cells": [
  {
   "cell_type": "markdown",
   "id": "e566c04e",
   "metadata": {},
   "source": [
    "Write your post here."
   ]
  }
 ],
 "metadata": {
  "kernelspec": {
   "display_name": "Python 3 (ipykernel)",
   "env": {},
   "interrupt_mode": "signal",
   "language": "python",
   "metadata": {
    "debugger": true
   },
   "name": "python3"
  },
  "nikola": {
   "category": "",
   "date": "2022-03-05 10:59:50 UTC+01:00",
   "description": "",
   "link": "",
   "slug": "survival-analysis-for-mip-solving-time",
   "tags": "",
   "title": "Survival Analysis for MIP Solving Time",
   "type": "text"
  }
 },
 "nbformat": 4,
 "nbformat_minor": 5
}
