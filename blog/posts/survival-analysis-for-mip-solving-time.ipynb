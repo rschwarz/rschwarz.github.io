{
 "cells": [
  {
   "cell_type": "markdown",
   "id": "4bbaa6f7",
   "metadata": {},
   "source": [
    "# Survival Analysis for MIP Solver Running Time\n",
    "\n",
    "Inspired by the recent activity in open-source MIP solvers ([HiGHS](https://highs.dev/) is becoming stable after the 1.0 release and many users submitting bug reports, [SCIP](https://scipopt.org/index.php#news) has become open-source software), I wanted to revisit some folklore about running times.\n",
    "\n",
    "When solving difficult problems, in particular, when running computational experiments, we have to choose a timelimit to tell the solver when to give up solving the problem (that is finding a solution and proving its optimality). If the timelimit is chosen too small, many instances will not be solved within it and therefore we can not compare the running time between different solvers or settings. But if we set the timelimit to long, we might waste computational resources while waiting for a result that never comes.\n",
    "\n",
    "I remember the rule of thumb:\n",
    "\n",
    "> If the problem is not solved within an hours, it will also not be solved after four hours (or later).\n",
    "\n",
    "Let's see if we can use some data and [survival analysis](https://en.wikipedia.org/wiki/Survival_analysis) to confirm this rule."
   ]
  },
  {
   "cell_type": "code",
   "execution_count": 1,
   "id": "80d499b6",
   "metadata": {},
   "outputs": [],
   "source": [
    "from lifelines import KaplanMeierFitter\n",
    "import matplotlib.pyplot as plt\n",
    "import pandas as pd"
   ]
  },
  {
   "cell_type": "code",
   "execution_count": 2,
   "id": "0b7695ca",
   "metadata": {},
   "outputs": [],
   "source": [
    "def make_ax():\n",
    "    fig = plt.figure(figsize=(12, 9))\n",
    "    ax = fig.subplots()\n",
    "    return ax"
   ]
  },
  {
   "cell_type": "markdown",
   "id": "307d05af",
   "metadata": {},
   "source": [
    "## Data Prep\n",
    "\n",
    "We use running time data from the [Mittelmann benchmarks](http://plato.la.asu.edu/bench.html) on the [MIPLIB](http://miplib.zib.de/) set of benchmark instances, a set of representative difficult MIP instances.\n",
    "\n",
    "From the solver comparison, we only look at the open-source solvers still in active development: HiGHS and SCIP.\n",
    "The timelimit was set as 2 hours (7200 seconds), which we use as our window of observation. The tables contain either the time to optimality (solved instance) or some exceptional status (either timout or an error). We interpret all exceptions as [right-censored](https://en.wikipedia.org/wiki/Survival_analysis#Censoring) data."
   ]
  },
  {
   "cell_type": "code",
   "execution_count": 3,
   "id": "00ccff48",
   "metadata": {},
   "outputs": [
    {
     "data": {
      "text/html": [
       "<div>\n",
       "<style scoped>\n",
       "    .dataframe tbody tr th:only-of-type {\n",
       "        vertical-align: middle;\n",
       "    }\n",
       "\n",
       "    .dataframe tbody tr th {\n",
       "        vertical-align: top;\n",
       "    }\n",
       "\n",
       "    .dataframe thead th {\n",
       "        text-align: right;\n",
       "    }\n",
       "</style>\n",
       "<table border=\"1\" class=\"dataframe\">\n",
       "  <thead>\n",
       "    <tr style=\"text-align: right;\">\n",
       "      <th></th>\n",
       "      <th>Instance</th>\n",
       "      <th>HiGHS</th>\n",
       "      <th>SCIP</th>\n",
       "    </tr>\n",
       "  </thead>\n",
       "  <tbody>\n",
       "    <tr>\n",
       "      <th>0</th>\n",
       "      <td>30n20b8</td>\n",
       "      <td>537</td>\n",
       "      <td>69</td>\n",
       "    </tr>\n",
       "    <tr>\n",
       "      <th>1</th>\n",
       "      <td>50v-10</td>\n",
       "      <td>5508</td>\n",
       "      <td>timeout</td>\n",
       "    </tr>\n",
       "    <tr>\n",
       "      <th>2</th>\n",
       "      <td>academictimetablesmall</td>\n",
       "      <td>timeout</td>\n",
       "      <td>timeout</td>\n",
       "    </tr>\n",
       "    <tr>\n",
       "      <th>3</th>\n",
       "      <td>air05</td>\n",
       "      <td>22</td>\n",
       "      <td>24</td>\n",
       "    </tr>\n",
       "    <tr>\n",
       "      <th>4</th>\n",
       "      <td>app1-1</td>\n",
       "      <td>23</td>\n",
       "      <td>3</td>\n",
       "    </tr>\n",
       "  </tbody>\n",
       "</table>\n",
       "</div>"
      ],
      "text/plain": [
       "                 Instance    HiGHS     SCIP\n",
       "0                 30n20b8      537       69\n",
       "1                  50v-10     5508  timeout\n",
       "2  academictimetablesmall  timeout  timeout\n",
       "3                   air05       22       24\n",
       "4                  app1-1       23        3"
      ]
     },
     "execution_count": 3,
     "metadata": {},
     "output_type": "execute_result"
    }
   ],
   "source": [
    "# Read in MIPLIP results (subset of solvers, converted to CSV)\n",
    "times = pd.read_csv(\"../files/miplib_20221113_8threads.csv\")\n",
    "times.head()"
   ]
  },
  {
   "cell_type": "code",
   "execution_count": 4,
   "id": "e556046a",
   "metadata": {},
   "outputs": [],
   "source": [
    "# Bring table in long form, not separate columns per solver\n",
    "times = pd.melt(times, id_vars=\"Instance\", var_name=\"Solver\", value_name=\"Runtime\")\n",
    "times.set_index([\"Solver\", \"Instance\"], inplace=True)"
   ]
  },
  {
   "cell_type": "code",
   "execution_count": 5,
   "id": "a70a2f74",
   "metadata": {},
   "outputs": [],
   "source": [
    "# Replace exceptional status with time limit\n",
    "for status in [\"abort\", \"mismatch\", \"timeout\"]:\n",
    "    times.replace(status, 7200, inplace=True)\n",
    "\n",
    "# Convert all values to numbers\n",
    "times[\"Runtime\"] = times[\"Runtime\"].astype(float)"
   ]
  },
  {
   "cell_type": "code",
   "execution_count": 6,
   "id": "273ee53e",
   "metadata": {},
   "outputs": [
    {
     "data": {
      "text/html": [
       "<div>\n",
       "<style scoped>\n",
       "    .dataframe tbody tr th:only-of-type {\n",
       "        vertical-align: middle;\n",
       "    }\n",
       "\n",
       "    .dataframe tbody tr th {\n",
       "        vertical-align: top;\n",
       "    }\n",
       "\n",
       "    .dataframe thead th {\n",
       "        text-align: right;\n",
       "    }\n",
       "</style>\n",
       "<table border=\"1\" class=\"dataframe\">\n",
       "  <thead>\n",
       "    <tr style=\"text-align: right;\">\n",
       "      <th></th>\n",
       "      <th></th>\n",
       "      <th>Runtime</th>\n",
       "      <th>Finished</th>\n",
       "    </tr>\n",
       "    <tr>\n",
       "      <th>Solver</th>\n",
       "      <th>Instance</th>\n",
       "      <th></th>\n",
       "      <th></th>\n",
       "    </tr>\n",
       "  </thead>\n",
       "  <tbody>\n",
       "    <tr>\n",
       "      <th rowspan=\"5\" valign=\"top\">HiGHS</th>\n",
       "      <th>30n20b8</th>\n",
       "      <td>537.0</td>\n",
       "      <td>1</td>\n",
       "    </tr>\n",
       "    <tr>\n",
       "      <th>50v-10</th>\n",
       "      <td>5508.0</td>\n",
       "      <td>1</td>\n",
       "    </tr>\n",
       "    <tr>\n",
       "      <th>academictimetablesmall</th>\n",
       "      <td>7200.0</td>\n",
       "      <td>0</td>\n",
       "    </tr>\n",
       "    <tr>\n",
       "      <th>air05</th>\n",
       "      <td>22.0</td>\n",
       "      <td>1</td>\n",
       "    </tr>\n",
       "    <tr>\n",
       "      <th>app1-1</th>\n",
       "      <td>23.0</td>\n",
       "      <td>1</td>\n",
       "    </tr>\n",
       "  </tbody>\n",
       "</table>\n",
       "</div>"
      ],
      "text/plain": [
       "                               Runtime  Finished\n",
       "Solver Instance                                 \n",
       "HiGHS  30n20b8                   537.0         1\n",
       "       50v-10                   5508.0         1\n",
       "       academictimetablesmall   7200.0         0\n",
       "       air05                      22.0         1\n",
       "       app1-1                     23.0         1"
      ]
     },
     "execution_count": 6,
     "metadata": {},
     "output_type": "execute_result"
    }
   ],
   "source": [
    "# Identify the instances that have been solved properly within the time limit.\n",
    "# The others are right-censored, that is, we don't know how long it would have taken to solve them,\n",
    "# including cases with an error status.\n",
    "times[\"Finished\"] = 1 * (times[\"Runtime\"] < 7200)\n",
    "times.head()"
   ]
  },
  {
   "cell_type": "markdown",
   "id": "cbd6244b",
   "metadata": {},
   "source": [
    "## Kaplan-Meier Estimate\n",
    "\n",
    "We apply the [Kaplan-Meier](https://en.wikipedia.org/wiki/Kaplan%E2%80%93Meier_estimator) estimate to draw survival curves for each solver.\n",
    "\n",
    "These show the probability that an instance has survived for some time (ie, has not yet been solved to optimality), together with a 95% confidence interval.\n",
    "\n",
    "Note that the curves (one for each solver) start at 100% for time 0 and decrease monotonically. The curves stop at 7200s (the time limit set) but have not reached 0%, because of some instances that have not been solved.\n",
    "\n",
    "We can see a steep decline in the first few minutes, while the curves flattens to a long tail, as predicted by our rule of thumb."
   ]
  },
  {
   "cell_type": "code",
   "execution_count": 7,
   "id": "d50a29ff",
   "metadata": {},
   "outputs": [],
   "source": [
    "def kaplan_meier(solver, ax=None):\n",
    "    kmf = KaplanMeierFitter()\n",
    "    kmf.fit(\n",
    "        times.loc[solver][\"Runtime\"],\n",
    "        event_observed=times.loc[solver][\"Finished\"],\n",
    "        label=solver,\n",
    "    )\n",
    "    return kmf.plot_survival_function(ax=ax)"
   ]
  },
  {
   "cell_type": "code",
   "execution_count": 8,
   "id": "9e024608",
   "metadata": {},
   "outputs": [
    {
     "data": {
      "image/png": "[encoded data removed]",
      "text/plain": [
       "<Figure size 864x648 with 1 Axes>"
      ]
     },
     "metadata": {
      "needs_background": "light"
     },
     "output_type": "display_data"
    }
   ],
   "source": [
    "ax = make_ax()\n",
    "for s in [\"HiGHS\", \"SCIP\"]:\n",
    "    kaplan_meier(s, ax)"
   ]
  },
  {
   "cell_type": "markdown",
   "id": "49184842",
   "metadata": {},
   "source": [
    "## Conditional Survival\n",
    "\n",
    "We can also look at conditional survival, considering only that part of the curves beyond the first hour.\n",
    "That is, we reframe our questions from\n",
    "\n",
    "> What is the probability that an instance has survived (*not* been solved) after some time?\n",
    "\n",
    "to \n",
    "\n",
    "> What is the probabilty that an instance is solved after some time of additional waiting, knowing that it wasn't solver after the first hour?\n",
    "\n",
    "To that end, we merge the data from both solvers and make some adjustments to the resulting survival curve."
   ]
  },
  {
   "cell_type": "code",
   "execution_count": 9,
   "id": "54819fc5",
   "metadata": {},
   "outputs": [
    {
     "data": {
      "image/png": "[encoded data removed]",
      "text/plain": [
       "<Figure size 864x648 with 1 Axes>"
      ]
     },
     "metadata": {
      "needs_background": "light"
     },
     "output_type": "display_data"
    }
   ],
   "source": [
    "kmf = KaplanMeierFitter()\n",
    "kmf.fit(\n",
    "    times[\"Runtime\"],\n",
    "    event_observed=times[\"Finished\"],\n",
    "    label=\"Open Source Solvers\"\n",
    ")\n",
    "ax = make_ax()\n",
    "kmf.plot_survival_function(ax=ax);"
   ]
  },
  {
   "cell_type": "code",
   "execution_count": 10,
   "id": "8dae3d0a",
   "metadata": {},
   "outputs": [],
   "source": [
    "# Only keep right tail of curve, going beyond 1h\n",
    "survival = kmf.survival_function_[\"Open Source Solvers\"]\n",
    "tail = survival[3600:]\n",
    "tail.index = tail.index - 3600.0"
   ]
  },
  {
   "cell_type": "code",
   "execution_count": 11,
   "id": "095cde60",
   "metadata": {},
   "outputs": [],
   "source": [
    "# Rescale probability to start at 100% (conditional on surviving 1h),\n",
    "# and negate the probability (solving it within time).\n",
    "cond_tail = 1.0 - tail / tail.iloc[0]"
   ]
  },
  {
   "cell_type": "code",
   "execution_count": 12,
   "id": "7fddfde6",
   "metadata": {},
   "outputs": [
    {
     "data": {
      "image/png": "[encoded data removed]",
      "text/plain": [
       "<Figure size 864x648 with 1 Axes>"
      ]
     },
     "metadata": {
      "needs_background": "light"
     },
     "output_type": "display_data"
    }
   ],
   "source": [
    "# Visualize probability of solving it after waiting for additional time, after 1h.\n",
    "ax = make_ax()\n",
    "cond_tail.plot(ax=ax, drawstyle=\"steps-pre\");"
   ]
  },
  {
   "cell_type": "markdown",
   "id": "4e482d4c",
   "metadata": {},
   "source": [
    "The above chart shows the probability than instance is solved after some time (beyond 1h), given that it wasn't solved already. It tells us that an additional hour of computation would only solve about 10% of the remaining instances."
   ]
  }
 ],
 "metadata": {
  "kernelspec": {
   "display_name": "Python 3 (ipykernel)",
   "language": "python",
   "name": "python3"
  },
  "language_info": {
   "codemirror_mode": {
    "name": "ipython",
    "version": 3
   },
   "file_extension": ".py",
   "mimetype": "text/x-python",
   "name": "python",
   "nbconvert_exporter": "python",
   "pygments_lexer": "ipython3",
   "version": "3.9.2"
  },
  "nikola": {
   "category": "",
   "date": "2022-03-05 10:59:50 UTC+01:00",
   "description": "",
   "link": "",
   "slug": "survival-analysis-for-mip-solving-time",
   "tags": "python,optimization,survival",
   "title": "Survival Analysis for MIP Solving Time",
   "type": "text"
  }
 },
 "nbformat": 4,
 "nbformat_minor": 5
}
