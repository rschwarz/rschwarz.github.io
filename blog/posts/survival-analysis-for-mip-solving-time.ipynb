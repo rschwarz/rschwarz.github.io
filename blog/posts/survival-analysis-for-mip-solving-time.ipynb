{
 "cells": [
  {
   "cell_type": "code",
   "execution_count": 64,
   "id": "80d499b6",
   "metadata": {},
   "outputs": [],
   "source": [
    "from lifelines import CoxPHFitter, KaplanMeierFitter\n",
    "import matplotlib.pyplot as plt\n",
    "import pandas as pd"
   ]
  },
  {
   "cell_type": "markdown",
   "id": "307d05af",
   "metadata": {},
   "source": [
    "## Data"
   ]
  },
  {
   "cell_type": "code",
   "execution_count": 50,
   "id": "00ccff48",
   "metadata": {},
   "outputs": [
    {
     "data": {
      "text/html": [
       "<div>\n",
       "<style scoped>\n",
       "    .dataframe tbody tr th:only-of-type {\n",
       "        vertical-align: middle;\n",
       "    }\n",
       "\n",
       "    .dataframe tbody tr th {\n",
       "        vertical-align: top;\n",
       "    }\n",
       "\n",
       "    .dataframe thead th {\n",
       "        text-align: right;\n",
       "    }\n",
       "</style>\n",
       "<table border=\"1\" class=\"dataframe\">\n",
       "  <thead>\n",
       "    <tr style=\"text-align: right;\">\n",
       "      <th></th>\n",
       "      <th>Name</th>\n",
       "      <th>CBC</th>\n",
       "      <th>COPT</th>\n",
       "      <th>Gurobi</th>\n",
       "      <th>HiGHS</th>\n",
       "      <th>SCIP</th>\n",
       "    </tr>\n",
       "  </thead>\n",
       "  <tbody>\n",
       "    <tr>\n",
       "      <th>0</th>\n",
       "      <td>30n20b8</td>\n",
       "      <td>145</td>\n",
       "      <td>37</td>\n",
       "      <td>1</td>\n",
       "      <td>1029</td>\n",
       "      <td>70</td>\n",
       "    </tr>\n",
       "    <tr>\n",
       "      <th>1</th>\n",
       "      <td>50v-10</td>\n",
       "      <td>7200</td>\n",
       "      <td>525</td>\n",
       "      <td>168</td>\n",
       "      <td>7200</td>\n",
       "      <td>7200</td>\n",
       "    </tr>\n",
       "    <tr>\n",
       "      <th>2</th>\n",
       "      <td>academictimetablesmall</td>\n",
       "      <td>7200</td>\n",
       "      <td>3331</td>\n",
       "      <td>355</td>\n",
       "      <td>7200</td>\n",
       "      <td>7200</td>\n",
       "    </tr>\n",
       "    <tr>\n",
       "      <th>3</th>\n",
       "      <td>air05</td>\n",
       "      <td>7</td>\n",
       "      <td>5</td>\n",
       "      <td>2</td>\n",
       "      <td>21</td>\n",
       "      <td>24</td>\n",
       "    </tr>\n",
       "    <tr>\n",
       "      <th>4</th>\n",
       "      <td>app1-1</td>\n",
       "      <td>3</td>\n",
       "      <td>1</td>\n",
       "      <td>1</td>\n",
       "      <td>17</td>\n",
       "      <td>3</td>\n",
       "    </tr>\n",
       "  </tbody>\n",
       "</table>\n",
       "</div>"
      ],
      "text/plain": [
       "                     Name   CBC  COPT  Gurobi  HiGHS  SCIP\n",
       "0                 30n20b8   145    37       1   1029    70\n",
       "1                  50v-10  7200   525     168   7200  7200\n",
       "2  academictimetablesmall  7200  3331     355   7200  7200\n",
       "3                   air05     7     5       2     21    24\n",
       "4                  app1-1     3     1       1     17     3"
      ]
     },
     "execution_count": 50,
     "metadata": {},
     "output_type": "execute_result"
    }
   ],
   "source": [
    "times = pd.read_csv(\"../files/miplib_20220205_8threads.csv\")\n",
    "times.head()"
   ]
  },
  {
   "cell_type": "code",
   "execution_count": 51,
   "id": "e556046a",
   "metadata": {},
   "outputs": [
    {
     "data": {
      "text/html": [
       "<div>\n",
       "<style scoped>\n",
       "    .dataframe tbody tr th:only-of-type {\n",
       "        vertical-align: middle;\n",
       "    }\n",
       "\n",
       "    .dataframe tbody tr th {\n",
       "        vertical-align: top;\n",
       "    }\n",
       "\n",
       "    .dataframe thead th {\n",
       "        text-align: right;\n",
       "    }\n",
       "</style>\n",
       "<table border=\"1\" class=\"dataframe\">\n",
       "  <thead>\n",
       "    <tr style=\"text-align: right;\">\n",
       "      <th></th>\n",
       "      <th>Name</th>\n",
       "      <th>Solver</th>\n",
       "      <th>Runtime</th>\n",
       "    </tr>\n",
       "  </thead>\n",
       "  <tbody>\n",
       "    <tr>\n",
       "      <th>0</th>\n",
       "      <td>30n20b8</td>\n",
       "      <td>CBC</td>\n",
       "      <td>145</td>\n",
       "    </tr>\n",
       "    <tr>\n",
       "      <th>1</th>\n",
       "      <td>50v-10</td>\n",
       "      <td>CBC</td>\n",
       "      <td>7200</td>\n",
       "    </tr>\n",
       "    <tr>\n",
       "      <th>2</th>\n",
       "      <td>academictimetablesmall</td>\n",
       "      <td>CBC</td>\n",
       "      <td>7200</td>\n",
       "    </tr>\n",
       "    <tr>\n",
       "      <th>3</th>\n",
       "      <td>air05</td>\n",
       "      <td>CBC</td>\n",
       "      <td>7</td>\n",
       "    </tr>\n",
       "    <tr>\n",
       "      <th>4</th>\n",
       "      <td>app1-1</td>\n",
       "      <td>CBC</td>\n",
       "      <td>3</td>\n",
       "    </tr>\n",
       "  </tbody>\n",
       "</table>\n",
       "</div>"
      ],
      "text/plain": [
       "                     Name Solver  Runtime\n",
       "0                 30n20b8    CBC      145\n",
       "1                  50v-10    CBC     7200\n",
       "2  academictimetablesmall    CBC     7200\n",
       "3                   air05    CBC        7\n",
       "4                  app1-1    CBC        3"
      ]
     },
     "execution_count": 51,
     "metadata": {},
     "output_type": "execute_result"
    }
   ],
   "source": [
    "times_long = pd.melt(times, id_vars=\"Name\", var_name=\"Solver\", value_name=\"Runtime\")\n",
    "times_long.head()"
   ]
  },
  {
   "cell_type": "code",
   "execution_count": 52,
   "id": "273ee53e",
   "metadata": {},
   "outputs": [
    {
     "data": {
      "text/html": [
       "<div>\n",
       "<style scoped>\n",
       "    .dataframe tbody tr th:only-of-type {\n",
       "        vertical-align: middle;\n",
       "    }\n",
       "\n",
       "    .dataframe tbody tr th {\n",
       "        vertical-align: top;\n",
       "    }\n",
       "\n",
       "    .dataframe thead th {\n",
       "        text-align: right;\n",
       "    }\n",
       "</style>\n",
       "<table border=\"1\" class=\"dataframe\">\n",
       "  <thead>\n",
       "    <tr style=\"text-align: right;\">\n",
       "      <th></th>\n",
       "      <th>Name</th>\n",
       "      <th>Solver</th>\n",
       "      <th>Runtime</th>\n",
       "      <th>Finished</th>\n",
       "    </tr>\n",
       "  </thead>\n",
       "  <tbody>\n",
       "    <tr>\n",
       "      <th>0</th>\n",
       "      <td>30n20b8</td>\n",
       "      <td>CBC</td>\n",
       "      <td>145</td>\n",
       "      <td>1</td>\n",
       "    </tr>\n",
       "    <tr>\n",
       "      <th>1</th>\n",
       "      <td>50v-10</td>\n",
       "      <td>CBC</td>\n",
       "      <td>7200</td>\n",
       "      <td>0</td>\n",
       "    </tr>\n",
       "    <tr>\n",
       "      <th>2</th>\n",
       "      <td>academictimetablesmall</td>\n",
       "      <td>CBC</td>\n",
       "      <td>7200</td>\n",
       "      <td>0</td>\n",
       "    </tr>\n",
       "    <tr>\n",
       "      <th>3</th>\n",
       "      <td>air05</td>\n",
       "      <td>CBC</td>\n",
       "      <td>7</td>\n",
       "      <td>1</td>\n",
       "    </tr>\n",
       "    <tr>\n",
       "      <th>4</th>\n",
       "      <td>app1-1</td>\n",
       "      <td>CBC</td>\n",
       "      <td>3</td>\n",
       "      <td>1</td>\n",
       "    </tr>\n",
       "  </tbody>\n",
       "</table>\n",
       "</div>"
      ],
      "text/plain": [
       "                     Name Solver  Runtime  Finished\n",
       "0                 30n20b8    CBC      145         1\n",
       "1                  50v-10    CBC     7200         0\n",
       "2  academictimetablesmall    CBC     7200         0\n",
       "3                   air05    CBC        7         1\n",
       "4                  app1-1    CBC        3         1"
      ]
     },
     "execution_count": 52,
     "metadata": {},
     "output_type": "execute_result"
    }
   ],
   "source": [
    "times_long[\"Finished\"] = 1 * (times_long[\"Runtime\"] < 7200)\n",
    "times_long.head()"
   ]
  },
  {
   "cell_type": "code",
   "execution_count": 53,
   "id": "243e2f6b",
   "metadata": {},
   "outputs": [
    {
     "data": {
      "text/plain": [
       "['CBC', 'COPT', 'Gurobi', 'HiGHS', 'SCIP']"
      ]
     },
     "execution_count": 53,
     "metadata": {},
     "output_type": "execute_result"
    }
   ],
   "source": [
    "solvers = sorted(times_long[\"Solver\"].unique())\n",
    "solvers"
   ]
  },
  {
   "cell_type": "code",
   "execution_count": 54,
   "id": "eecca741",
   "metadata": {},
   "outputs": [
    {
     "data": {
      "text/html": [
       "<div>\n",
       "<style scoped>\n",
       "    .dataframe tbody tr th:only-of-type {\n",
       "        vertical-align: middle;\n",
       "    }\n",
       "\n",
       "    .dataframe tbody tr th {\n",
       "        vertical-align: top;\n",
       "    }\n",
       "\n",
       "    .dataframe thead th {\n",
       "        text-align: right;\n",
       "    }\n",
       "</style>\n",
       "<table border=\"1\" class=\"dataframe\">\n",
       "  <thead>\n",
       "    <tr style=\"text-align: right;\">\n",
       "      <th></th>\n",
       "      <th></th>\n",
       "      <th>Runtime</th>\n",
       "      <th>Finished</th>\n",
       "    </tr>\n",
       "    <tr>\n",
       "      <th>Solver</th>\n",
       "      <th>Name</th>\n",
       "      <th></th>\n",
       "      <th></th>\n",
       "    </tr>\n",
       "  </thead>\n",
       "  <tbody>\n",
       "    <tr>\n",
       "      <th rowspan=\"5\" valign=\"top\">CBC</th>\n",
       "      <th>30n20b8</th>\n",
       "      <td>145</td>\n",
       "      <td>1</td>\n",
       "    </tr>\n",
       "    <tr>\n",
       "      <th>50v-10</th>\n",
       "      <td>7200</td>\n",
       "      <td>0</td>\n",
       "    </tr>\n",
       "    <tr>\n",
       "      <th>academictimetablesmall</th>\n",
       "      <td>7200</td>\n",
       "      <td>0</td>\n",
       "    </tr>\n",
       "    <tr>\n",
       "      <th>air05</th>\n",
       "      <td>7</td>\n",
       "      <td>1</td>\n",
       "    </tr>\n",
       "    <tr>\n",
       "      <th>app1-1</th>\n",
       "      <td>3</td>\n",
       "      <td>1</td>\n",
       "    </tr>\n",
       "  </tbody>\n",
       "</table>\n",
       "</div>"
      ],
      "text/plain": [
       "                               Runtime  Finished\n",
       "Solver Name                                     \n",
       "CBC    30n20b8                     145         1\n",
       "       50v-10                     7200         0\n",
       "       academictimetablesmall     7200         0\n",
       "       air05                         7         1\n",
       "       app1-1                        3         1"
      ]
     },
     "execution_count": 54,
     "metadata": {},
     "output_type": "execute_result"
    }
   ],
   "source": [
    "bysolver = times_long.set_index([\"Solver\", \"Name\"])\n",
    "bysolver.head()"
   ]
  },
  {
   "cell_type": "markdown",
   "id": "cbd6244b",
   "metadata": {},
   "source": [
    "## Kaplan Meier"
   ]
  },
  {
   "cell_type": "code",
   "execution_count": 55,
   "id": "d50a29ff",
   "metadata": {},
   "outputs": [],
   "source": [
    "def kaplan_meier(solver, ax=None):\n",
    "    kmf = KaplanMeierFitter()\n",
    "    kmf.fit(\n",
    "        bysolver.loc[solver][\"Runtime\"],\n",
    "        event_observed=bysolver.loc[solver][\"Finished\"],\n",
    "        label=solver,\n",
    "    )\n",
    "    return kmf.plot_survival_function(ax=ax)"
   ]
  },
  {
   "cell_type": "code",
   "execution_count": 60,
   "id": "9e024608",
   "metadata": {},
   "outputs": [
    {
     "data": {
      "image/png": "[encoded data removed]",
      "text/plain": [
       "<Figure size 432x288 with 1 Axes>"
      ]
     },
     "metadata": {
      "needs_background": "light"
     },
     "output_type": "display_data"
    }
   ],
   "source": [
    "ax = plt.subplot(111)\n",
    "for s in [\"CBC\", \"HiGHS\"]:\n",
    "    kaplan_meier(s, ax)"
   ]
  },
  {
   "cell_type": "code",
   "execution_count": 61,
   "id": "21dae480",
   "metadata": {},
   "outputs": [
    {
     "data": {
      "image/png": "[encoded data removed]",
      "text/plain": [
       "<Figure size 432x288 with 1 Axes>"
      ]
     },
     "metadata": {
      "needs_background": "light"
     },
     "output_type": "display_data"
    }
   ],
   "source": [
    "ax = plt.subplot(111)\n",
    "for s in [\"SCIP\", \"HiGHS\"]:\n",
    "    kaplan_meier(s, ax)"
   ]
  },
  {
   "cell_type": "code",
   "execution_count": 63,
   "id": "d5edf832",
   "metadata": {},
   "outputs": [
    {
     "data": {
      "image/png": "[encoded data removed]",
      "text/plain": [
       "<Figure size 432x288 with 1 Axes>"
      ]
     },
     "metadata": {
      "needs_background": "light"
     },
     "output_type": "display_data"
    }
   ],
   "source": [
    "ax = plt.subplot(111)\n",
    "for s in [\"COPT\", \"Gurobi\"]:\n",
    "    kaplan_meier(s, ax)"
   ]
  }
 ],
 "metadata": {
  "kernelspec": {
   "display_name": "Python 3 (ipykernel)",
   "language": "python",
   "name": "python3"
  },
  "language_info": {
   "codemirror_mode": {
    "name": "ipython",
    "version": 3
   },
   "file_extension": ".py",
   "mimetype": "text/x-python",
   "name": "python",
   "nbconvert_exporter": "python",
   "pygments_lexer": "ipython3",
   "version": "3.9.2"
  },
  "nikola": {
   "category": "",
   "date": "2022-03-05 10:59:50 UTC+01:00",
   "description": "",
   "link": "",
   "slug": "survival-analysis-for-mip-solving-time",
   "tags": "",
   "title": "Survival Analysis for MIP Solving Time",
   "type": "text"
  }
 },
 "nbformat": 4,
 "nbformat_minor": 5
}
